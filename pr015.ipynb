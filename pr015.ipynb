{
 "cells": [
  {
   "cell_type": "code",
   "execution_count": 1,
   "metadata": {
    "collapsed": false
   },
   "outputs": [
    {
     "name": "stdout",
     "output_type": "stream",
     "text": [
      "3.5.1 |Anaconda 2.4.1 (64-bit)| (default, Dec  7 2015, 11:16:01) \n",
      "[GCC 4.4.7 20120313 (Red Hat 4.4.7-1)]\n",
      "Tue Jan 19 11:39:09 2016\n"
     ]
    }
   ],
   "source": [
    "import sys; print(sys.version)\n",
    "import time; print(time.strftime(\"%c\"))"
   ]
  },
  {
   "cell_type": "markdown",
   "metadata": {},
   "source": [
    "# 15. [Lattice paths](https://projecteuler.net/problem=15)\n",
    "\n",
    "Starting in the top left corner of a 2×2 grid, and only being able to move to the right and down, there are exactly 6 routes to the bottom right corner.\n",
    "\n",
    "![](https://projecteuler.net/project/images/p015.gif)\n",
    "\n",
    "How many such routes are there through a 20×20 grid?"
   ]
  },
  {
   "cell_type": "markdown",
   "metadata": {},
   "source": [
    "### Brute-force approach\n",
    "The following brute-force approach fails by the huge number of possible path."
   ]
  },
  {
   "cell_type": "code",
   "execution_count": 2,
   "metadata": {
    "collapsed": false
   },
   "outputs": [],
   "source": [
    "def advance_path(n, path):\n",
    "    '''advance one step of each path on an n x n grid\n",
    "    '''\n",
    "    advanced_path = []\n",
    "    for p in path:\n",
    "        if p[-1][0] < n+1:\n",
    "            pp = p.copy()\n",
    "            pp.append((pp[-1][0]+1,pp[-1][1]))\n",
    "            advanced_path.append(pp)\n",
    "        if p[-1][1] < n+1:\n",
    "            pp = p.copy()\n",
    "            pp.append((pp[-1][0],pp[-1][1]+1))\n",
    "            advanced_path.append(pp)\n",
    "    return advanced_path"
   ]
  },
  {
   "cell_type": "code",
   "execution_count": 3,
   "metadata": {
    "collapsed": false
   },
   "outputs": [],
   "source": [
    "def end_path(n, path):\n",
    "    '''determine whether all given pathes are ended\n",
    "    '''\n",
    "    for p in path:\n",
    "        if p[-1][0] != n + 1 or p[-1][1] != n + 1:\n",
    "            return False\n",
    "    return True"
   ]
  },
  {
   "cell_type": "markdown",
   "metadata": {},
   "source": [
    "Veryfy the above functions with the given example."
   ]
  },
  {
   "cell_type": "code",
   "execution_count": 46,
   "metadata": {
    "collapsed": false,
    "slideshow": {
     "slide_type": "-"
    }
   },
   "outputs": [],
   "source": [
    "path = [[(1,1)]]\n",
    "n_grid = 2\n",
    "while end_path(n_grid, path) == False:\n",
    "    path = advance_path(n_grid, path)"
   ]
  },
  {
   "cell_type": "code",
   "execution_count": 47,
   "metadata": {
    "collapsed": false
   },
   "outputs": [
    {
     "data": {
      "text/plain": [
       "[[(1, 1), (2, 1), (3, 1), (3, 2), (3, 3)],\n",
       " [(1, 1), (2, 1), (2, 2), (3, 2), (3, 3)],\n",
       " [(1, 1), (2, 1), (2, 2), (2, 3), (3, 3)],\n",
       " [(1, 1), (1, 2), (2, 2), (3, 2), (3, 3)],\n",
       " [(1, 1), (1, 2), (2, 2), (2, 3), (3, 3)],\n",
       " [(1, 1), (1, 2), (1, 3), (2, 3), (3, 3)]]"
      ]
     },
     "execution_count": 47,
     "metadata": {},
     "output_type": "execute_result"
    }
   ],
   "source": [
    "path"
   ]
  },
  {
   "cell_type": "code",
   "execution_count": 48,
   "metadata": {
    "collapsed": false
   },
   "outputs": [
    {
     "data": {
      "text/plain": [
       "6"
      ]
     },
     "execution_count": 48,
     "metadata": {},
     "output_type": "execute_result"
    }
   ],
   "source": [
    "len(path)"
   ]
  },
  {
   "cell_type": "code",
   "execution_count": 6,
   "metadata": {
    "collapsed": false
   },
   "outputs": [
    {
     "data": {
      "text/plain": [
       "20"
      ]
     },
     "execution_count": 6,
     "metadata": {},
     "output_type": "execute_result"
    }
   ],
   "source": [
    "path = [[(1,1)]]\n",
    "n_grid = 3\n",
    "while end_path(n_grid, path) == False:\n",
    "    path = advance_path(n_grid, path)\n",
    "len(path)"
   ]
  },
  {
   "cell_type": "markdown",
   "metadata": {},
   "source": [
    "### More deliberate appraoch"
   ]
  },
  {
   "cell_type": "markdown",
   "metadata": {},
   "source": [
    "If we rotate the cell by $45^{\\circ}$ to make the starting point is top of the grid and the ending point is bottom of the grid, we can draw a tree-like path diagram. The moving direction now towards to downside.\n",
    "\n",
    "We can count the number of path for the upper half in case of four grids."
   ]
  },
  {
   "cell_type": "code",
   "execution_count": 11,
   "metadata": {
    "collapsed": false
   },
   "outputs": [
    {
     "data": {
      "text/plain": [
       "[1, 3, 3, 1]"
      ]
     },
     "execution_count": 11,
     "metadata": {},
     "output_type": "execute_result"
    }
   ],
   "source": [
    "n_grid = 3\n",
    "path_count = [1]\n",
    "\n",
    "for i in range(n_grid):\n",
    "    new_path_count = [1]\n",
    "    for j in range(len(path_count) - 1):\n",
    "        new_path_count.append(path_count[j] + path_count[j+1])\n",
    "    new_path_count.append(1)\n",
    "    path_count = new_path_count\n",
    "path_count"
   ]
  },
  {
   "cell_type": "code",
   "execution_count": 12,
   "metadata": {
    "collapsed": false
   },
   "outputs": [
    {
     "data": {
      "text/plain": [
       "[20]"
      ]
     },
     "execution_count": 12,
     "metadata": {},
     "output_type": "execute_result"
    }
   ],
   "source": [
    "for i in range(n_grid):\n",
    "    new_path_count = []\n",
    "    for j in range(len(path_count) - 1):\n",
    "        new_path_count.append(path_count[j] + path_count[j+1])\n",
    "    path_count = new_path_count\n",
    "path_count"
   ]
  },
  {
   "cell_type": "markdown",
   "metadata": {
    "collapsed": true
   },
   "source": [
    "This result coincides with the previous result. Now we try 20 grid."
   ]
  },
  {
   "cell_type": "code",
   "execution_count": 13,
   "metadata": {
    "collapsed": false
   },
   "outputs": [
    {
     "data": {
      "text/plain": [
       "[137846528820]"
      ]
     },
     "execution_count": 13,
     "metadata": {},
     "output_type": "execute_result"
    }
   ],
   "source": [
    "n_grid = 20\n",
    "path_count = [1]\n",
    "\n",
    "for i in range(n_grid):\n",
    "    new_path_count = [1]\n",
    "    for j in range(len(path_count) - 1):\n",
    "        new_path_count.append(path_count[j] + path_count[j+1])\n",
    "    new_path_count.append(1)\n",
    "    path_count = new_path_count\n",
    "    \n",
    "for i in range(n_grid):\n",
    "    new_path_count = []\n",
    "    for j in range(len(path_count) - 1):\n",
    "        new_path_count.append(path_count[j] + path_count[j+1])\n",
    "    path_count = new_path_count\n",
    "path_count"
   ]
  },
  {
   "cell_type": "code",
   "execution_count": null,
   "metadata": {
    "collapsed": true
   },
   "outputs": [],
   "source": []
  }
 ],
 "metadata": {
  "kernelspec": {
   "display_name": "Python 3",
   "language": "python",
   "name": "python3"
  },
  "language_info": {
   "codemirror_mode": {
    "name": "ipython",
    "version": 3
   },
   "file_extension": ".py",
   "mimetype": "text/x-python",
   "name": "python",
   "nbconvert_exporter": "python",
   "pygments_lexer": "ipython3",
   "version": "3.5.1"
  }
 },
 "nbformat": 4,
 "nbformat_minor": 0
}
