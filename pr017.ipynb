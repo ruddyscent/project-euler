{
 "cells": [
  {
   "cell_type": "code",
   "execution_count": 3,
   "metadata": {
    "collapsed": false
   },
   "outputs": [
    {
     "name": "stdout",
     "output_type": "stream",
     "text": [
      "3.5.1 |Anaconda 2.4.1 (64-bit)| (default, Dec  7 2015, 11:16:01) \n",
      "[GCC 4.4.7 20120313 (Red Hat 4.4.7-1)]\n",
      "Wed Jan 20 13:57:46 2016\n"
     ]
    }
   ],
   "source": [
    "import sys; print(sys.version)\n",
    "import time; print(time.strftime(\"%c\"))"
   ]
  },
  {
   "cell_type": "markdown",
   "metadata": {},
   "source": [
    "# 17. [Number letter counts](https://projecteuler.net/problem=17)\n",
    "\n",
    "If the numbers 1 to 5 are written out in words: one, two, three, four, five, then there are 3 + 3 + 5 + 4 + 4 = 19 letters used in total.\n",
    "\n",
    "If all the numbers from 1 to 1000 (one thousand) inclusive were written out in words, how many letters would be used?\n",
    "\n",
    "\n",
    "**NOTE:** Do not count spaces or hyphens. For example, 342 (three hundred and forty-two) contains 23 letters and 115 (one hundred and fifteen) contains 20 letters. The use of \"and\" when writing out numbers is in compliance with British usage."
   ]
  },
  {
   "cell_type": "code",
   "execution_count": 71,
   "metadata": {
    "collapsed": false
   },
   "outputs": [],
   "source": [
    "n2w = {1:'one', 2:'two', 3:'three', 4:'four', 5:'five', 6:'six', 7:'seven', 8:'eight', 9:'nine', 0:'',\n",
    "       10:'ten', 11:'eleven', 12:'twelve', 13:'thirteen', 14:'fourteen', 15:'fifteen', 16:'sixteen', 17:'seventeen', 18:'eighteen', 19:'nineteen',\n",
    "       20:'twenty', 30:'thirty', 40:'forty', 50:'fifty', 60:'sixty', 70:'seventy', 80:'eighty', 90:'ninety'}\n",
    "\n",
    "def read_order3(n):\n",
    "    '''read order3 digit\n",
    "    '''\n",
    "    if n == 0:\n",
    "        return ''\n",
    "    else:\n",
    "        return n2w[n] + 'thousand'\n",
    "    \n",
    "def read_order2(n):\n",
    "    '''read order3 digit\n",
    "    '''\n",
    "    if n == 0:\n",
    "        return ''\n",
    "    else:\n",
    "        return n2w[n] + 'hundred'\n",
    "    \n",
    "def read_rest(n1, n2):\n",
    "    '''read below 100\n",
    "    '''\n",
    "    if n1 == 0:\n",
    "        return n2w[n2]\n",
    "    if n1 == 1:\n",
    "        return n2w[10+n2]\n",
    "    else:\n",
    "        return n2w[n1*10] + n2w[n2]\n",
    "    \n",
    "def read_number(n):\n",
    "    order3 = int(n / 1000) % 10\n",
    "    order2 = int(n / 100) % 10\n",
    "    order1 = int(n / 10) % 10\n",
    "    order0 = n % 10\n",
    "\n",
    "    printout = ''\n",
    "    if order3 != 0:\n",
    "        printout += read_order3(order3)\n",
    "    if order2 != 0:\n",
    "        printout += read_order2(order2)\n",
    "        if order1 != 0 or order0 != 0:\n",
    "            printout += 'and'\n",
    "    if order1 != 0 or order0 != 0:\n",
    "        printout += read_rest(order1, order0)\n",
    "\n",
    "    return(printout)"
   ]
  },
  {
   "cell_type": "code",
   "execution_count": 74,
   "metadata": {
    "collapsed": false
   },
   "outputs": [
    {
     "data": {
      "text/plain": [
       "'ninehundredandninetynine'"
      ]
     },
     "execution_count": 74,
     "metadata": {},
     "output_type": "execute_result"
    }
   ],
   "source": [
    "read_number(999)"
   ]
  },
  {
   "cell_type": "code",
   "execution_count": 73,
   "metadata": {
    "collapsed": false
   },
   "outputs": [
    {
     "data": {
      "text/plain": [
       "21124"
      ]
     },
     "execution_count": 73,
     "metadata": {},
     "output_type": "execute_result"
    }
   ],
   "source": [
    "count = 0\n",
    "for n in range(1,1001):\n",
    "    count += len(read_number(n))\n",
    "count"
   ]
  },
  {
   "cell_type": "code",
   "execution_count": null,
   "metadata": {
    "collapsed": true
   },
   "outputs": [],
   "source": []
  }
 ],
 "metadata": {
  "kernelspec": {
   "display_name": "Python 3",
   "language": "python",
   "name": "python3"
  },
  "language_info": {
   "codemirror_mode": {
    "name": "ipython",
    "version": 3
   },
   "file_extension": ".py",
   "mimetype": "text/x-python",
   "name": "python",
   "nbconvert_exporter": "python",
   "pygments_lexer": "ipython3",
   "version": "3.5.1"
  }
 },
 "nbformat": 4,
 "nbformat_minor": 0
}
