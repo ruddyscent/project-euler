{
 "cells": [
  {
   "cell_type": "code",
   "execution_count": 1,
   "metadata": {
    "collapsed": false
   },
   "outputs": [
    {
     "name": "stdout",
     "output_type": "stream",
     "text": [
      "3.5.1 |Anaconda 2.4.1 (64-bit)| (default, Dec  7 2015, 11:16:01) \n",
      "[GCC 4.4.7 20120313 (Red Hat 4.4.7-1)]\n",
      "Mon Jan 18 23:06:54 2016\n",
      "Automatic pdb calling has been turned ON\n"
     ]
    }
   ],
   "source": [
    "import sys; print(sys.version)\n",
    "import time; print(time.strftime(\"%c\"))\n",
    "%pdb"
   ]
  },
  {
   "cell_type": "markdown",
   "metadata": {},
   "source": [
    "# 3. [Largest prime factor](https://projecteuler.net/problem=3)\n",
    "\n",
    "The prime factors of 13195 are 5, 7, 13 and 29.\n",
    "\n",
    "What is the largest prime factor of the number 600851475143 ?"
   ]
  },
  {
   "cell_type": "markdown",
   "metadata": {},
   "source": [
    "1. [Functions](https://github.com/jmportilla/Complete-Python-Bootcamp/blob/master/Functions.ipynb)\n",
    "1. [for loops](https://github.com/jmportilla/Complete-Python-Bootcamp/blob/master/For%20Loops%20.ipynb)\n",
    "1. [if, elif, and else conditionals](https://github.com/jmportilla/Complete-Python-Bootcamp/blob/master/If%2C%20elif%2C%20and%20else%20Statements%20.ipynb)"
   ]
  },
  {
   "cell_type": "markdown",
   "metadata": {},
   "source": [
    "The given number is too big to investigate factors. According to the [Wikipedia](https://en.wikipedia.org/wiki/Prime_number#Trial_division) the biggest prime factor is less than $\\sqrt{n}$."
   ]
  },
  {
   "cell_type": "code",
   "execution_count": 3,
   "metadata": {
    "collapsed": true
   },
   "outputs": [],
   "source": [
    "import math as m"
   ]
  },
  {
   "cell_type": "code",
   "execution_count": 3,
   "metadata": {
    "collapsed": false
   },
   "outputs": [
    {
     "name": "stdout",
     "output_type": "stream",
     "text": [
      "91\n"
     ]
    }
   ],
   "source": [
    "number = 13195\n",
    "\n",
    "start = int(m.sqrt(number))\n",
    "\n",
    "if start % 2 == 0:\n",
    "    start -= 1\n",
    "    \n",
    "for i in range(start, 1, -2):\n",
    "    if number % i == 0:\n",
    "        print(i)\n",
    "        break;"
   ]
  },
  {
   "cell_type": "markdown",
   "metadata": {},
   "source": [
    "Make a function to test whether the factor is prime or not."
   ]
  },
  {
   "cell_type": "code",
   "execution_count": 13,
   "metadata": {
    "collapsed": false
   },
   "outputs": [],
   "source": [
    "def is_prime(num):\n",
    "    if num == 2:\n",
    "        return True\n",
    "    elif num % 2 == 0:\n",
    "        return False\n",
    "    else:\n",
    "        for i in range(3, int(m.sqrt(num)) + 1, 2):\n",
    "            if num % i == 0:\n",
    "                return False\n",
    "    return True     "
   ]
  },
  {
   "cell_type": "markdown",
   "metadata": {},
   "source": [
    "A trial execution"
   ]
  },
  {
   "cell_type": "code",
   "execution_count": 14,
   "metadata": {
    "collapsed": false
   },
   "outputs": [
    {
     "name": "stdout",
     "output_type": "stream",
     "text": [
      "29\n"
     ]
    }
   ],
   "source": [
    "number = 13195\n",
    "\n",
    "start = int(m.sqrt(number))\n",
    "\n",
    "if start % 2 == 0:\n",
    "    start -= 1\n",
    "    \n",
    "for i in range(start, 1, -2):\n",
    "    if number % i == 0 and is_prime(i):\n",
    "        print(i)\n",
    "        break;"
   ]
  },
  {
   "cell_type": "code",
   "execution_count": 7,
   "metadata": {
    "collapsed": false
   },
   "outputs": [
    {
     "name": "stdout",
     "output_type": "stream",
     "text": [
      "6857\n"
     ]
    }
   ],
   "source": [
    "number = 600851475143\n",
    "\n",
    "start = int(m.sqrt(number))\n",
    "\n",
    "if start % 2 == 0:\n",
    "    start -= 1\n",
    "    \n",
    "for i in range(start, 1, -2):\n",
    "    if number % i == 0 and is_prime(i):\n",
    "        print(i)\n",
    "        break;"
   ]
  }
 ],
 "metadata": {
  "kernelspec": {
   "display_name": "Python 3",
   "language": "python",
   "name": "python3"
  },
  "language_info": {
   "codemirror_mode": {
    "name": "ipython",
    "version": 3
   },
   "file_extension": ".py",
   "mimetype": "text/x-python",
   "name": "python",
   "nbconvert_exporter": "python",
   "pygments_lexer": "ipython3",
   "version": "3.5.1"
  }
 },
 "nbformat": 4,
 "nbformat_minor": 0
}
